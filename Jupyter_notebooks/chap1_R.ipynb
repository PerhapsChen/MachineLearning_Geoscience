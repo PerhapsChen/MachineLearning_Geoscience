{
 "cells": [
  {
   "cell_type": "markdown",
   "id": "cf321132",
   "metadata": {},
   "source": [
    "# Chapter 1: Set up Jupyter notebook for R\n",
    "\n",
    "1. Once notebook `chap1_Python.ipynb` has run without error and R is installed on your computer, add R as additional jupyter kernel. To do so, run `conda install -c r r-irkernel` in a terminal.\n",
    "\n",
    "2. Change the Kernel of the present notebook from Python to R (go to the Kernel menu, then Change Kernel, add R). If you do not see R in the list, quit Jupyter notebook and try again. If the problem persists, go back to step 1.\n",
    "\n",
    "Once R and jupyter notebook are installed, run the following cell:"
   ]
  },
  {
   "cell_type": "code",
   "execution_count": 1,
   "id": "444c216c",
   "metadata": {},
   "outputs": [
    {
     "data": {
      "text/plain": [
       "R version 3.6.1 (2019-07-05)\n",
       "Platform: x86_64-w64-mingw32/x64 (64-bit)\n",
       "Running under: Windows 10 x64 (build 19042)\n",
       "\n",
       "Matrix products: default\n",
       "\n",
       "locale:\n",
       "[1] LC_COLLATE=Chinese (Simplified)_China.936 \n",
       "[2] LC_CTYPE=Chinese (Simplified)_China.936   \n",
       "[3] LC_MONETARY=Chinese (Simplified)_China.936\n",
       "[4] LC_NUMERIC=C                              \n",
       "[5] LC_TIME=Chinese (Simplified)_China.936    \n",
       "\n",
       "attached base packages:\n",
       "[1] stats     graphics  grDevices utils     datasets  methods   base     \n",
       "\n",
       "loaded via a namespace (and not attached):\n",
       " [1] compiler_3.6.1  IRdisplay_0.7.0 pbdZMQ_0.3-3    tools_3.6.1    \n",
       " [5] htmltools_0.3.6 base64enc_0.1-3 crayon_1.3.4    Rcpp_1.0.1     \n",
       " [9] uuid_0.1-2      IRkernel_0.8.15 jsonlite_1.6    digest_0.6.18  \n",
       "[13] repr_0.19.2     evaluate_0.13  "
      ]
     },
     "metadata": {},
     "output_type": "display_data"
    }
   ],
   "source": [
    "sessionInfo()"
   ]
  },
  {
   "cell_type": "markdown",
   "id": "7d6a8280",
   "metadata": {},
   "source": [
    "You should read `R version 4.0.3 (2020-10-10)` or similar on the first line. Other details should be listed.\n",
    "\n",
    "Finally, run the following cell:"
   ]
  },
  {
   "cell_type": "code",
   "execution_count": 2,
   "id": "c4eaaafd",
   "metadata": {},
   "outputs": [
    {
     "data": {
      "text/html": [
       "3.14159265358979"
      ],
      "text/latex": [
       "3.14159265358979"
      ],
      "text/markdown": [
       "3.14159265358979"
      ],
      "text/plain": [
       "[1] 3.141593"
      ]
     },
     "metadata": {},
     "output_type": "display_data"
    }
   ],
   "source": [
    "pi"
   ]
  },
  {
   "cell_type": "markdown",
   "id": "97a08011",
   "metadata": {},
   "source": [
    "You should read `3.14159265358979`. You're all set for R applications in this course!"
   ]
  },
  {
   "cell_type": "code",
   "execution_count": null,
   "id": "f812b65c",
   "metadata": {},
   "outputs": [],
   "source": []
  }
 ],
 "metadata": {
  "kernelspec": {
   "display_name": "R",
   "language": "R",
   "name": "ir"
  },
  "language_info": {
   "codemirror_mode": "r",
   "file_extension": ".r",
   "mimetype": "text/x-r-source",
   "name": "R",
   "pygments_lexer": "r",
   "version": "3.6.1"
  }
 },
 "nbformat": 4,
 "nbformat_minor": 5
}
