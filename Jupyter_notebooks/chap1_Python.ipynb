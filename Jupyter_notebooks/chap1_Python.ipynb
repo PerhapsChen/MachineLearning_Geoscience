{
 "cells": [
  {
   "cell_type": "markdown",
   "id": "cf321132",
   "metadata": {},
   "source": [
    "# Chapter 1: Set up Jupyter notebook for Python\n",
    "\n",
    "Once Python and jupyter notebook are installed, run the following cell:"
   ]
  },
  {
   "cell_type": "code",
   "execution_count": 1,
   "id": "444c216c",
   "metadata": {},
   "outputs": [
    {
     "name": "stdout",
     "output_type": "stream",
     "text": [
      "Python 3.8.8\n"
     ]
    }
   ],
   "source": [
    "!python --version"
   ]
  },
  {
   "cell_type": "markdown",
   "id": "781c909b",
   "metadata": {},
   "source": [
    "You should read `Python 3.9.x`, `x` being any subversion.\n",
    "\n",
    "Then import the following Python libraries (using pip `python3 -m pip install LIBRARY` or conda `conda install LIBRARY -y`) where `LIBRARY` is: `numpy`, `pandas` and `matplotlib`\n",
    "\n",
    "Then run the final cell:"
   ]
  },
  {
   "cell_type": "code",
   "execution_count": 2,
   "id": "c0af0f50",
   "metadata": {},
   "outputs": [],
   "source": [
    "import numpy as np                # array operations\n",
    "import pandas as pd               # data analysis & manipulation\n",
    "import matplotlib.pyplot as plt   # basic plotting"
   ]
  },
  {
   "cell_type": "markdown",
   "id": "7bfd3dfb",
   "metadata": {},
   "source": [
    "No error message should appear. You're all set for Python applications in this course!"
   ]
  },
  {
   "cell_type": "code",
   "execution_count": null,
   "id": "af1e2ee4",
   "metadata": {},
   "outputs": [],
   "source": []
  }
 ],
 "metadata": {
  "kernelspec": {
   "display_name": "Python 3",
   "language": "python",
   "name": "python3"
  },
  "language_info": {
   "codemirror_mode": {
    "name": "ipython",
    "version": 3
   },
   "file_extension": ".py",
   "mimetype": "text/x-python",
   "name": "python",
   "nbconvert_exporter": "python",
   "pygments_lexer": "ipython3",
   "version": "3.8.8"
  }
 },
 "nbformat": 4,
 "nbformat_minor": 5
}
